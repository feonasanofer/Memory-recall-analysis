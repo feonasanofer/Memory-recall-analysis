{
 "cells": [
  {
   "cell_type": "code",
   "execution_count": 2,
   "id": "8fe43ea1",
   "metadata": {},
   "outputs": [],
   "source": [
    "# importing the required libraries\n",
    "\n",
    "import pandas as pd\n",
    "import numpy as np\n",
    "import seaborn as sns\n",
    "import matplotlib.pyplot as plt\n",
    "from sklearn.linear_model import LogisticRegression\n",
    "from sklearn.neighbors import KNeighborsClassifier\n",
    "from sklearn.tree import DecisionTreeClassifier\n",
    "from sklearn.ensemble import RandomForestClassifier\n",
    "from sklearn.metrics import precision_score, recall_score, confusion_matrix\n",
    "from sklearn.metrics import  classification_report, accuracy_score, f1_score\n",
    "from sklearn.model_selection import train_test_split\n",
    "from sklearn.preprocessing import StandardScaler\n",
    "from imblearn.under_sampling import RandomUnderSampler\n",
    "from sklearn import decomposition\n"
   ]
  },
  {
   "cell_type": "code",
   "execution_count": 3,
   "id": "796e7ff5",
   "metadata": {},
   "outputs": [
    {
     "name": "stdout",
     "output_type": "stream",
     "text": [
      "(463, 7)\n"
     ]
    }
   ],
   "source": [
    "#loading the dataset\n",
    "\n",
    "data =  pd.read_csv(r\"C:\\Users\\renji\\OneDrive\\Desktop\\New folder\\FinalReportAndCodeByGroup7\\Data\\Dataset.csv\")\n",
    "print(data.shape)"
   ]
  },
  {
   "cell_type": "markdown",
   "id": "691fa3ae",
   "metadata": {},
   "source": [
    "## Feature Engineering"
   ]
  },
  {
   "cell_type": "code",
   "execution_count": 5,
   "id": "2eec609b",
   "metadata": {},
   "outputs": [
    {
     "name": "stdout",
     "output_type": "stream",
     "text": [
      "<class 'pandas.core.frame.DataFrame'>\n",
      "RangeIndex: 463 entries, 0 to 462\n",
      "Data columns (total 7 columns):\n",
      " #   Column                         Non-Null Count  Dtype  \n",
      "---  ------                         --------------  -----  \n",
      " 0   Total Duration of Fixations    463 non-null    int64  \n",
      " 1   Average Duration of Fixations  463 non-null    int64  \n",
      " 2   Maximum duration of fixations  463 non-null    int64  \n",
      " 3   No of fixations                463 non-null    int64  \n",
      " 4   Average pupil diameter         463 non-null    float64\n",
      " 5   Total Duration of visit        463 non-null    int64  \n",
      " 6   class                          463 non-null    int64  \n",
      "dtypes: float64(1), int64(6)\n",
      "memory usage: 25.4 KB\n"
     ]
    }
   ],
   "source": [
    "# Describing the dataset\n",
    "\n",
    "data.info()"
   ]
  },
  {
   "cell_type": "code",
   "execution_count": 3,
   "id": "644f1ded",
   "metadata": {},
   "outputs": [
    {
     "data": {
      "text/html": [
       "<div>\n",
       "<style scoped>\n",
       "    .dataframe tbody tr th:only-of-type {\n",
       "        vertical-align: middle;\n",
       "    }\n",
       "\n",
       "    .dataframe tbody tr th {\n",
       "        vertical-align: top;\n",
       "    }\n",
       "\n",
       "    .dataframe thead th {\n",
       "        text-align: right;\n",
       "    }\n",
       "</style>\n",
       "<table border=\"1\" class=\"dataframe\">\n",
       "  <thead>\n",
       "    <tr style=\"text-align: right;\">\n",
       "      <th></th>\n",
       "      <th>Total Duration of Fixations</th>\n",
       "      <th>Average Duration of Fixations</th>\n",
       "      <th>Maximum duration of fixations</th>\n",
       "      <th>No of fixations</th>\n",
       "      <th>Average pupil diameter</th>\n",
       "      <th>Total Duration of visit</th>\n",
       "      <th>class</th>\n",
       "    </tr>\n",
       "  </thead>\n",
       "  <tbody>\n",
       "    <tr>\n",
       "      <th>0</th>\n",
       "      <td>933</td>\n",
       "      <td>467</td>\n",
       "      <td>864</td>\n",
       "      <td>2</td>\n",
       "      <td>2.82689</td>\n",
       "      <td>1100</td>\n",
       "      <td>1</td>\n",
       "    </tr>\n",
       "    <tr>\n",
       "      <th>1</th>\n",
       "      <td>3033</td>\n",
       "      <td>3033</td>\n",
       "      <td>3033</td>\n",
       "      <td>1</td>\n",
       "      <td>2.78837</td>\n",
       "      <td>3033</td>\n",
       "      <td>1</td>\n",
       "    </tr>\n",
       "    <tr>\n",
       "      <th>2</th>\n",
       "      <td>1266</td>\n",
       "      <td>422</td>\n",
       "      <td>916</td>\n",
       "      <td>3</td>\n",
       "      <td>2.87316</td>\n",
       "      <td>1932</td>\n",
       "      <td>1</td>\n",
       "    </tr>\n",
       "    <tr>\n",
       "      <th>3</th>\n",
       "      <td>3684</td>\n",
       "      <td>1228</td>\n",
       "      <td>2725</td>\n",
       "      <td>3</td>\n",
       "      <td>2.96831</td>\n",
       "      <td>5217</td>\n",
       "      <td>1</td>\n",
       "    </tr>\n",
       "    <tr>\n",
       "      <th>4</th>\n",
       "      <td>1667</td>\n",
       "      <td>833</td>\n",
       "      <td>1414</td>\n",
       "      <td>2</td>\n",
       "      <td>2.96048</td>\n",
       "      <td>1683</td>\n",
       "      <td>1</td>\n",
       "    </tr>\n",
       "  </tbody>\n",
       "</table>\n",
       "</div>"
      ],
      "text/plain": [
       "   Total Duration of Fixations  Average Duration of Fixations  \\\n",
       "0                          933                            467   \n",
       "1                         3033                           3033   \n",
       "2                         1266                            422   \n",
       "3                         3684                           1228   \n",
       "4                         1667                            833   \n",
       "\n",
       "   Maximum duration of fixations  No of fixations  Average pupil diameter  \\\n",
       "0                            864                2                 2.82689   \n",
       "1                           3033                1                 2.78837   \n",
       "2                            916                3                 2.87316   \n",
       "3                           2725                3                 2.96831   \n",
       "4                           1414                2                 2.96048   \n",
       "\n",
       "   Total Duration of visit  class  \n",
       "0                     1100      1  \n",
       "1                     3033      1  \n",
       "2                     1932      1  \n",
       "3                     5217      1  \n",
       "4                     1683      1  "
      ]
     },
     "execution_count": 3,
     "metadata": {},
     "output_type": "execute_result"
    }
   ],
   "source": [
    "#checking the features\n",
    "\n",
    "data.head()"
   ]
  },
  {
   "cell_type": "code",
   "execution_count": 4,
   "id": "e6f2dc80",
   "metadata": {},
   "outputs": [
    {
     "data": {
      "text/plain": [
       "1    402\n",
       "0     61\n",
       "Name: class, dtype: int64"
      ]
     },
     "execution_count": 4,
     "metadata": {},
     "output_type": "execute_result"
    }
   ],
   "source": [
    "#checking the no of data pionts in each class\n",
    "\n",
    "data['class'].value_counts()\n",
    "\n",
    "#"
   ]
  },
  {
   "cell_type": "code",
   "execution_count": 112,
   "id": "f391a144",
   "metadata": {},
   "outputs": [
    {
     "data": {
      "text/plain": [
       "([<matplotlib.patches.Wedge at 0x160d55475e0>,\n",
       "  <matplotlib.patches.Wedge at 0x160d5547d60>],\n",
       " [Text(-1.007113828316367, 0.4424044945679817, 'True Memmory '),\n",
       "  Text(1.007113849026815, -0.4424044474215805, 'False Memmory')],\n",
       " [Text(-0.5493348154452911, 0.24131154249162634, '86.8%'),\n",
       "  Text(0.549334826741899, -0.24131151677540752, '13.2%')])"
      ]
     },
     "execution_count": 112,
     "metadata": {},
     "output_type": "execute_result"
    },
    {
     "data": {
      "image/png": "[encoded data removed]",
      "text/plain": [
       "<Figure size 432x288 with 1 Axes>"
      ]
     },
     "metadata": {},
     "output_type": "display_data"
    }
   ],
   "source": [
    "#plotting a pie diagram\n",
    "\n",
    "#clas_names = data ['class'].value_counts().index\n",
    "clas_names = ['True Memmory ','False Memmory']\n",
    "clas_count = data['class'].value_counts()\n",
    "plt.pie(clas_count,labels = clas_names,autopct='%1.1f%%')"
   ]
  },
  {
   "cell_type": "code",
   "execution_count": 15,
   "id": "467df4de",
   "metadata": {},
   "outputs": [
    {
     "data": {
      "text/plain": [
       "0    61\n",
       "1    61\n",
       "Name: class, dtype: int64"
      ]
     },
     "execution_count": 15,
     "metadata": {},
     "output_type": "execute_result"
    }
   ],
   "source": [
    "#Balancing the  dataset\n",
    "\n",
    "# since the datset is highly imbalanced one,we need to balance it first\n",
    "#the undersampling technique is used here inorder to balance the dataset.\n",
    "\n",
    "\n",
    "#spliting the datasset into dependent and independent variables \n",
    "\n",
    "X = data.drop(['class'],axis = 1)\n",
    "y = data['class']\n",
    "\n",
    "# using the RandomUnderSampler Function to perform the Undersampling\n",
    "\n",
    "rus = RandomUnderSampler(random_state=0)\n",
    "rus.fit(X, y)\n",
    "X_res, y_res = rus.fit_resample(X, y)\n",
    "y_res.value_counts()"
   ]
  },
  {
   "cell_type": "code",
   "execution_count": 114,
   "id": "7d893f67",
   "metadata": {},
   "outputs": [
    {
     "data": {
      "text/plain": [
       "([<matplotlib.patches.Wedge at 0x160d5a54100>,\n",
       "  <matplotlib.patches.Wedge at 0x160d5a54820>],\n",
       " [Text(6.735557395310444e-17, 1.1, 'True Memmory '),\n",
       "  Text(-2.0206672185931328e-16, -1.1, 'False Memmory')],\n",
       " [Text(3.6739403974420595e-17, 0.6, '50.0%'),\n",
       "  Text(-1.1021821192326178e-16, -0.6, '50.0%')])"
      ]
     },
     "execution_count": 114,
     "metadata": {},
     "output_type": "execute_result"
    },
    {
     "data": {
      "image/png": "[encoded data removed]",
      "text/plain": [
       "<Figure size 432x288 with 1 Axes>"
      ]
     },
     "metadata": {},
     "output_type": "display_data"
    }
   ],
   "source": [
    "#plotting the pie diagarm after balancing the dataset\n",
    "\n",
    "#plotting a pie diagram\n",
    "\n",
    "#clas_names = data ['class'].value_counts().index\n",
    "clas_names = ['True Memmory ','False Memmory']\n",
    "clas_count = y_res.value_counts()\n",
    "plt.pie(clas_count,labels = clas_names,autopct='%1.1f%%')"
   ]
  },
  {
   "cell_type": "markdown",
   "id": "bc79b5b4",
   "metadata": {},
   "source": [
    "## PCA"
   ]
  },
  {
   "cell_type": "code",
   "execution_count": 13,
   "id": "219d29e2",
   "metadata": {},
   "outputs": [
    {
     "data": {
      "text/html": [
       "<div>\n",
       "<style scoped>\n",
       "    .dataframe tbody tr th:only-of-type {\n",
       "        vertical-align: middle;\n",
       "    }\n",
       "\n",
       "    .dataframe tbody tr th {\n",
       "        vertical-align: top;\n",
       "    }\n",
       "\n",
       "    .dataframe thead th {\n",
       "        text-align: right;\n",
       "    }\n",
       "</style>\n",
       "<table border=\"1\" class=\"dataframe\">\n",
       "  <thead>\n",
       "    <tr style=\"text-align: right;\">\n",
       "      <th></th>\n",
       "      <th>PC1</th>\n",
       "    </tr>\n",
       "  </thead>\n",
       "  <tbody>\n",
       "    <tr>\n",
       "      <th>Total Duration of Fixations</th>\n",
       "      <td>0.544771</td>\n",
       "    </tr>\n",
       "    <tr>\n",
       "      <th>Average Duration of Fixations</th>\n",
       "      <td>0.033320</td>\n",
       "    </tr>\n",
       "    <tr>\n",
       "      <th>Maximum duration of fixations</th>\n",
       "      <td>0.160495</td>\n",
       "    </tr>\n",
       "    <tr>\n",
       "      <th>No of fixations</th>\n",
       "      <td>0.000946</td>\n",
       "    </tr>\n",
       "    <tr>\n",
       "      <th>Average pupil diameter</th>\n",
       "      <td>0.000015</td>\n",
       "    </tr>\n",
       "    <tr>\n",
       "      <th>Total Duration of visit</th>\n",
       "      <td>0.822408</td>\n",
       "    </tr>\n",
       "  </tbody>\n",
       "</table>\n",
       "</div>"
      ],
      "text/plain": [
       "                                    PC1\n",
       "Total Duration of Fixations    0.544771\n",
       "Average Duration of Fixations  0.033320\n",
       "Maximum duration of fixations  0.160495\n",
       "No of fixations                0.000946\n",
       "Average pupil diameter         0.000015\n",
       "Total Duration of visit        0.822408"
      ]
     },
     "execution_count": 13,
     "metadata": {},
     "output_type": "execute_result"
    }
   ],
   "source": [
    "# Finding the out the weightages of each features in predicting the output class.\n",
    "# Features that have least values can be eliminated.\n",
    "\n",
    "\n",
    "pca = decomposition.PCA(n_components=1)\n",
    "X_pca = pca.fit_transform(X_res) \n",
    "pd.DataFrame(pca.components_.T, columns=['PC1'], index=X_res.columns)"
   ]
  },
  {
   "cell_type": "code",
   "execution_count": 92,
   "id": "f4023ae0",
   "metadata": {},
   "outputs": [
    {
     "data": {
      "text/html": [
       "<div>\n",
       "<style scoped>\n",
       "    .dataframe tbody tr th:only-of-type {\n",
       "        vertical-align: middle;\n",
       "    }\n",
       "\n",
       "    .dataframe tbody tr th {\n",
       "        vertical-align: top;\n",
       "    }\n",
       "\n",
       "    .dataframe thead th {\n",
       "        text-align: right;\n",
       "    }\n",
       "</style>\n",
       "<table border=\"1\" class=\"dataframe\">\n",
       "  <thead>\n",
       "    <tr style=\"text-align: right;\">\n",
       "      <th></th>\n",
       "      <th>Total Duration of Fixations</th>\n",
       "      <th>Maximum duration of fixations</th>\n",
       "      <th>Total Duration of visit</th>\n",
       "    </tr>\n",
       "  </thead>\n",
       "  <tbody>\n",
       "    <tr>\n",
       "      <th>0</th>\n",
       "      <td>2784</td>\n",
       "      <td>1421</td>\n",
       "      <td>3433</td>\n",
       "    </tr>\n",
       "    <tr>\n",
       "      <th>1</th>\n",
       "      <td>1033</td>\n",
       "      <td>516</td>\n",
       "      <td>1250</td>\n",
       "    </tr>\n",
       "    <tr>\n",
       "      <th>2</th>\n",
       "      <td>1133</td>\n",
       "      <td>649</td>\n",
       "      <td>1300</td>\n",
       "    </tr>\n",
       "    <tr>\n",
       "      <th>3</th>\n",
       "      <td>3984</td>\n",
       "      <td>650</td>\n",
       "      <td>5117</td>\n",
       "    </tr>\n",
       "    <tr>\n",
       "      <th>4</th>\n",
       "      <td>1452</td>\n",
       "      <td>683</td>\n",
       "      <td>2268</td>\n",
       "    </tr>\n",
       "  </tbody>\n",
       "</table>\n",
       "</div>"
      ],
      "text/plain": [
       "   Total Duration of Fixations  Maximum duration of fixations  \\\n",
       "0                         2784                           1421   \n",
       "1                         1033                            516   \n",
       "2                         1133                            649   \n",
       "3                         3984                            650   \n",
       "4                         1452                            683   \n",
       "\n",
       "   Total Duration of visit  \n",
       "0                     3433  \n",
       "1                     1250  \n",
       "2                     1300  \n",
       "3                     5117  \n",
       "4                     2268  "
      ]
     },
     "execution_count": 92,
     "metadata": {},
     "output_type": "execute_result"
    }
   ],
   "source": [
    "#Feature selection \n",
    "\n",
    "# Eliminating the features that have least values \n",
    "\n",
    "X_new = X_res.drop(['Average Duration of Fixations','No of fixations','Average pupil diameter'],axis =1)\n",
    "X_new.head()"
   ]
  },
  {
   "cell_type": "markdown",
   "id": "2fb3bc68",
   "metadata": {},
   "source": [
    "## EDA"
   ]
  },
  {
   "cell_type": "code",
   "execution_count": 117,
   "id": "2f6f464f",
   "metadata": {},
   "outputs": [
    {
     "data": {
      "text/plain": [
       "<AxesSubplot:xlabel='class', ylabel='Total Duration of visit'>"
      ]
     },
     "execution_count": 117,
     "metadata": {},
     "output_type": "execute_result"
    },
    {
     "data": {
      "image/png": "[encoded data removed]",
      "text/plain": [
       "<Figure size 432x288 with 1 Axes>"
      ]
     },
     "metadata": {
      "needs_background": "light"
     },
     "output_type": "display_data"
    }
   ],
   "source": [
    "# plotting boxgraph of each features against the target class\n",
    "\n",
    "sns.boxplot(data = X_new,y =X['Total Duration of visit'],x = y)\n"
   ]
  },
  {
   "cell_type": "code",
   "execution_count": 118,
   "id": "431a9b22",
   "metadata": {},
   "outputs": [
    {
     "data": {
      "text/plain": [
       "<AxesSubplot:xlabel='class', ylabel='Maximum duration of fixations'>"
      ]
     },
     "execution_count": 118,
     "metadata": {},
     "output_type": "execute_result"
    },
    {
     "data": {
      "image/png": "[encoded data removed]",
      "text/plain": [
       "<Figure size 432x288 with 1 Axes>"
      ]
     },
     "metadata": {
      "needs_background": "light"
     },
     "output_type": "display_data"
    }
   ],
   "source": [
    "\n",
    "# plotting boxgraph of each features against the target class\n",
    "\n",
    "sns.boxplot(data = X_new,y =X['Maximum duration of fixations'],x = y)"
   ]
  },
  {
   "cell_type": "code",
   "execution_count": 119,
   "id": "20fb98c2",
   "metadata": {},
   "outputs": [
    {
     "data": {
      "text/plain": [
       "<AxesSubplot:xlabel='class', ylabel='Total Duration of Fixations'>"
      ]
     },
     "execution_count": 119,
     "metadata": {},
     "output_type": "execute_result"
    },
    {
     "data": {
      "image/png": "[encoded data removed]",
      "text/plain": [
       "<Figure size 432x288 with 1 Axes>"
      ]
     },
     "metadata": {
      "needs_background": "light"
     },
     "output_type": "display_data"
    }
   ],
   "source": [
    "# plotting boxgraph of each features against the target class\n",
    "\n",
    "sns.boxplot(data = X_new,y =X['Total Duration of Fixations'],x = y)"
   ]
  },
  {
   "cell_type": "markdown",
   "id": "7760752e",
   "metadata": {},
   "source": [
    "## Model Creation"
   ]
  },
  {
   "cell_type": "code",
   "execution_count": 72,
   "id": "0fd3b5f5",
   "metadata": {},
   "outputs": [],
   "source": [
    "#from the graph it is clear that ,the classes cant be well-\n",
    "              #seperated using any of the selected features.\n",
    "\n",
    "#building the classification model\n",
    "\n",
    "#test -train split\n",
    "X_train,X_test,y_train,y_test =train_test_split(X_new,y_res,test_size = 0.2,random_state = 0)\n",
    "\n",
    "# scaleing the independent variables\n",
    "scalar = StandardScaler()\n",
    "\n",
    "#scaling and tranforming the taining dataset\n",
    "scalar.fit(X_train)\n",
    "X_train_scaled = pd.DataFrame(scalar.transform(X_train))\n",
    "\n",
    "#scaling and tranforming the testing dataset\n",
    "scalar.fit(X_test)\n",
    "X_test_scaled = pd.DataFrame(scalar.transform(X_test))"
   ]
  },
  {
   "cell_type": "code",
   "execution_count": 73,
   "id": "37fc7db2",
   "metadata": {},
   "outputs": [
    {
     "name": "stdout",
     "output_type": "stream",
     "text": [
      "Test Score\n",
      "                   Logistic Regression  :  : 40.00%\n",
      "                   K-Nearest Neighbors  :  : 48.00%\n",
      "                         Decision Tree  :  : 60.00%\n",
      "                         Random Forest  :  : 68.00%\n"
     ]
    }
   ],
   "source": [
    "#Creating the models\n",
    "\n",
    "models =  {\n",
    "    \"                   Logistic Regression\": LogisticRegression(),\n",
    "    \"                   K-Nearest Neighbors\": KNeighborsClassifier(),\n",
    "    \"                         Decision Tree\": DecisionTreeClassifier(),\n",
    "    \"                         Random Forest\": RandomForestClassifier(),                    \n",
    "}\n",
    "\n",
    "\n",
    "#training the models\n",
    "\n",
    "for clsfr,clsfr_fun in models.items():\n",
    "    clsfr_fun.fit(X_train_scaled,y_train)\n",
    "\n",
    "#Testing the model\n",
    "\n",
    "print('Test Score')\n",
    "for clsfr,clsfr_fun in models.items():\n",
    "    score = clsfr_fun.score(X_test_scaled,y_test)\n",
    "    per_score =  (\": {:.2f}%\". format(score*100))\n",
    "    print(clsfr, ' : ' ,(per_score))"
   ]
  },
  {
   "cell_type": "code",
   "execution_count": 74,
   "id": "5724867f",
   "metadata": {
    "scrolled": true
   },
   "outputs": [
    {
     "name": "stdout",
     "output_type": "stream",
     "text": [
      "Classification Report for RandomForestClassifier :  \n",
      "\n",
      "              precision    recall  f1-score   support\n",
      "\n",
      "           0       0.64      0.64      0.64        11\n",
      "           1       0.71      0.71      0.71        14\n",
      "\n",
      "    accuracy                           0.68        25\n",
      "   macro avg       0.68      0.68      0.68        25\n",
      "weighted avg       0.68      0.68      0.68        25\n",
      "\n"
     ]
    }
   ],
   "source": [
    "#printing classification report for RandomForestClassifier\n",
    "\n",
    "model = RandomForestClassifier()\n",
    "model.fit(X_train_scaled,y_train)\n",
    "pred = model.predict(X_test_scaled)\n",
    "print('Classification Report for RandomForestClassifier : ','\\n')\n",
    "print(classification_report(y_test,pred))\n"
   ]
  },
  {
   "cell_type": "code",
   "execution_count": 75,
   "id": "7c8c14ef",
   "metadata": {},
   "outputs": [
    {
     "data": {
      "image/png": "[encoded data removed]",
      "text/plain": [
       "<Figure size 432x288 with 2 Axes>"
      ]
     },
     "metadata": {
      "needs_background": "light"
     },
     "output_type": "display_data"
    }
   ],
   "source": [
    "#confusion matrix\n",
    "\n",
    "conf_matrix = confusion_matrix(y_test,pred)\n",
    "plt.figure(figsize=(6,4))\n",
    "sns.heatmap((conf_matrix/np.sum(conf_matrix))*100,annot = True,cmap =\"Greens\")\n",
    "plt.show()"
   ]
  },
  {
   "cell_type": "markdown",
   "id": "7ff3183d",
   "metadata": {},
   "source": [
    "## With Weighted Features "
   ]
  },
  {
   "cell_type": "code",
   "execution_count": 93,
   "id": "aa1ce90d",
   "metadata": {},
   "outputs": [
    {
     "data": {
      "text/html": [
       "<div>\n",
       "<style scoped>\n",
       "    .dataframe tbody tr th:only-of-type {\n",
       "        vertical-align: middle;\n",
       "    }\n",
       "\n",
       "    .dataframe tbody tr th {\n",
       "        vertical-align: top;\n",
       "    }\n",
       "\n",
       "    .dataframe thead th {\n",
       "        text-align: right;\n",
       "    }\n",
       "</style>\n",
       "<table border=\"1\" class=\"dataframe\">\n",
       "  <thead>\n",
       "    <tr style=\"text-align: right;\">\n",
       "      <th></th>\n",
       "      <th>weighted value</th>\n",
       "    </tr>\n",
       "  </thead>\n",
       "  <tbody>\n",
       "    <tr>\n",
       "      <th>0</th>\n",
       "      <td>4568.032523</td>\n",
       "    </tr>\n",
       "    <tr>\n",
       "      <th>1</th>\n",
       "      <td>1673.573863</td>\n",
       "    </tr>\n",
       "    <tr>\n",
       "      <th>2</th>\n",
       "      <td>1790.517198</td>\n",
       "    </tr>\n",
       "    <tr>\n",
       "      <th>3</th>\n",
       "      <td>6482.951150</td>\n",
       "    </tr>\n",
       "    <tr>\n",
       "      <th>4</th>\n",
       "      <td>2765.846921</td>\n",
       "    </tr>\n",
       "    <tr>\n",
       "      <th>...</th>\n",
       "      <td>...</td>\n",
       "    </tr>\n",
       "    <tr>\n",
       "      <th>117</th>\n",
       "      <td>1248.109658</td>\n",
       "    </tr>\n",
       "    <tr>\n",
       "      <th>118</th>\n",
       "      <td>818.833264</td>\n",
       "    </tr>\n",
       "    <tr>\n",
       "      <th>119</th>\n",
       "      <td>9573.422224</td>\n",
       "    </tr>\n",
       "    <tr>\n",
       "      <th>120</th>\n",
       "      <td>3378.695907</td>\n",
       "    </tr>\n",
       "    <tr>\n",
       "      <th>121</th>\n",
       "      <td>1553.644458</td>\n",
       "    </tr>\n",
       "  </tbody>\n",
       "</table>\n",
       "<p>122 rows × 1 columns</p>\n",
       "</div>"
      ],
      "text/plain": [
       "     weighted value\n",
       "0       4568.032523\n",
       "1       1673.573863\n",
       "2       1790.517198\n",
       "3       6482.951150\n",
       "4       2765.846921\n",
       "..              ...\n",
       "117     1248.109658\n",
       "118      818.833264\n",
       "119     9573.422224\n",
       "120     3378.695907\n",
       "121     1553.644458\n",
       "\n",
       "[122 rows x 1 columns]"
      ]
     },
     "execution_count": 93,
     "metadata": {},
     "output_type": "execute_result"
    }
   ],
   "source": [
    "#Now trying the dimensionality reduction using weighted features (weights used from PCA) \n",
    "\n",
    "X_new = X_res.drop(['Average Duration of Fixations','No of fixations','Average pupil diameter'],axis =1)\n",
    "#multiplying the feature values with their weights\n",
    "X_new['Total Duration of Fixations']=0.544771*X_new['Total Duration of Fixations']\n",
    "X_new['Maximum duration of fixations']=0.160495*X_new['Maximum duration of fixations']\n",
    "X_new['Total Duration of visit']=0.822408*X_new['Total Duration of visit']\n",
    "\n",
    "# Merging all the 3 features into a single coloumn by summing it up\n",
    "\n",
    "X_new['weighted value'] = X_new['Total Duration of Fixations']+X_new['Maximum duration of fixations']+X_new['Total Duration of visit']\n",
    "\n",
    "#dropping the individual features\n",
    "X_new = X_new.drop(['Maximum duration of fixations','Total Duration of Fixations','Total Duration of visit'],axis =1)\n",
    "X_new"
   ]
  },
  {
   "cell_type": "code",
   "execution_count": 97,
   "id": "f954e765",
   "metadata": {},
   "outputs": [
    {
     "data": {
      "text/plain": [
       "<AxesSubplot:xlabel='class', ylabel='weighted value'>"
      ]
     },
     "execution_count": 97,
     "metadata": {},
     "output_type": "execute_result"
    },
    {
     "data": {
      "image/png": "[encoded data removed]",
      "text/plain": [
       "<Figure size 432x288 with 1 Axes>"
      ]
     },
     "metadata": {
      "needs_background": "light"
     },
     "output_type": "display_data"
    }
   ],
   "source": [
    "# Creating the boxplot of weighted values against each target class\n",
    "\n",
    "sns.boxplot(data =X_new ,y =X_new['weighted value'],x = y)"
   ]
  },
  {
   "cell_type": "code",
   "execution_count": 95,
   "id": "93a7f161",
   "metadata": {},
   "outputs": [
    {
     "name": "stdout",
     "output_type": "stream",
     "text": [
      "                   Logistic Regression  :  : 40.00%\n",
      "                   K-Nearest Neighbors  :  : 48.00%\n",
      "                         Decision Tree  :  : 56.00%\n",
      "                         Random Forest  :  : 56.00%\n"
     ]
    }
   ],
   "source": [
    "#Creating the classification model based on weighted features\n",
    "\n",
    "X_train2,X_test2,y_train2,y_test2 = train_test_split(X_new,y_res,test_size = 0.2,random_state = 42)\n",
    "\n",
    "# scaleing the independent variables\n",
    "scalar = StandardScaler()\n",
    "\n",
    "#scaling and tranforming the taining dataset\n",
    "scalar.fit(X_train2)\n",
    "X_train_scaled2 = pd.DataFrame(scalar.transform(X_train2))\n",
    "\n",
    "#scaling and tranforming the testing dataset\n",
    "scalar.fit(X_test2)\n",
    "X_test_scaled2 = pd.DataFrame(scalar.transform(X_test2))\n",
    "\n",
    "#finding the accuracy score:\n",
    "\n",
    "for clsfr,clsfr_fun in models.items():\n",
    "    clsfr_fun.fit(X_train_scaled2, y_train2)\n",
    "    y_pred2 = clsfr_fun.predict(X_test_scaled2)\n",
    "    score = accuracy_score(y_test2, y_pred2)\n",
    "    per_score =  (\": {:.2f}%\". format(score*100))\n",
    "    print(clsfr, ' : ' ,(per_score))"
   ]
  },
  {
   "cell_type": "code",
   "execution_count": null,
   "id": "02e23870",
   "metadata": {},
   "outputs": [],
   "source": [
    "# There is no improvement in the model performance ,however-\n",
    "                           #With one feature we where able to get an accuracy of 56%"
   ]
  },
  {
   "cell_type": "markdown",
   "id": "ba6771a5",
   "metadata": {},
   "source": [
    "## Finding the Threshold"
   ]
  },
  {
   "cell_type": "code",
   "execution_count": 103,
   "id": "0e241af3",
   "metadata": {},
   "outputs": [
    {
     "data": {
      "text/html": [
       "<div>\n",
       "<style scoped>\n",
       "    .dataframe tbody tr th:only-of-type {\n",
       "        vertical-align: middle;\n",
       "    }\n",
       "\n",
       "    .dataframe tbody tr th {\n",
       "        vertical-align: top;\n",
       "    }\n",
       "\n",
       "    .dataframe thead th {\n",
       "        text-align: right;\n",
       "    }\n",
       "</style>\n",
       "<table border=\"1\" class=\"dataframe\">\n",
       "  <thead>\n",
       "    <tr style=\"text-align: right;\">\n",
       "      <th></th>\n",
       "      <th>weighted value</th>\n",
       "      <th>class</th>\n",
       "      <th>prediction</th>\n",
       "    </tr>\n",
       "  </thead>\n",
       "  <tbody>\n",
       "    <tr>\n",
       "      <th>0</th>\n",
       "      <td>4568.032523</td>\n",
       "      <td>0</td>\n",
       "      <td>1</td>\n",
       "    </tr>\n",
       "    <tr>\n",
       "      <th>1</th>\n",
       "      <td>1673.573863</td>\n",
       "      <td>0</td>\n",
       "      <td>1</td>\n",
       "    </tr>\n",
       "    <tr>\n",
       "      <th>2</th>\n",
       "      <td>1790.517198</td>\n",
       "      <td>0</td>\n",
       "      <td>1</td>\n",
       "    </tr>\n",
       "    <tr>\n",
       "      <th>3</th>\n",
       "      <td>6482.951150</td>\n",
       "      <td>0</td>\n",
       "      <td>1</td>\n",
       "    </tr>\n",
       "    <tr>\n",
       "      <th>4</th>\n",
       "      <td>2765.846921</td>\n",
       "      <td>0</td>\n",
       "      <td>1</td>\n",
       "    </tr>\n",
       "    <tr>\n",
       "      <th>...</th>\n",
       "      <td>...</td>\n",
       "      <td>...</td>\n",
       "      <td>...</td>\n",
       "    </tr>\n",
       "    <tr>\n",
       "      <th>117</th>\n",
       "      <td>1248.109658</td>\n",
       "      <td>1</td>\n",
       "      <td>0</td>\n",
       "    </tr>\n",
       "    <tr>\n",
       "      <th>118</th>\n",
       "      <td>818.833264</td>\n",
       "      <td>1</td>\n",
       "      <td>0</td>\n",
       "    </tr>\n",
       "    <tr>\n",
       "      <th>119</th>\n",
       "      <td>9573.422224</td>\n",
       "      <td>1</td>\n",
       "      <td>1</td>\n",
       "    </tr>\n",
       "    <tr>\n",
       "      <th>120</th>\n",
       "      <td>3378.695907</td>\n",
       "      <td>1</td>\n",
       "      <td>1</td>\n",
       "    </tr>\n",
       "    <tr>\n",
       "      <th>121</th>\n",
       "      <td>1553.644458</td>\n",
       "      <td>1</td>\n",
       "      <td>0</td>\n",
       "    </tr>\n",
       "  </tbody>\n",
       "</table>\n",
       "<p>122 rows × 3 columns</p>\n",
       "</div>"
      ],
      "text/plain": [
       "     weighted value  class  prediction\n",
       "0       4568.032523      0           1\n",
       "1       1673.573863      0           1\n",
       "2       1790.517198      0           1\n",
       "3       6482.951150      0           1\n",
       "4       2765.846921      0           1\n",
       "..              ...    ...         ...\n",
       "117     1248.109658      1           0\n",
       "118      818.833264      1           0\n",
       "119     9573.422224      1           1\n",
       "120     3378.695907      1           1\n",
       "121     1553.644458      1           0\n",
       "\n",
       "[122 rows x 3 columns]"
      ]
     },
     "execution_count": 103,
     "metadata": {},
     "output_type": "execute_result"
    }
   ],
   "source": [
    "#Here an attempt is carried out to identify wheather we could find a threshold value for-\n",
    "             #weighted features which will well seperate the traget classes.\n",
    "X_new['class'] = y_res\n",
    "X_new  "
   ]
  },
  {
   "cell_type": "code",
   "execution_count": 104,
   "id": "c874d127",
   "metadata": {},
   "outputs": [
    {
     "data": {
      "text/html": [
       "<div>\n",
       "<style scoped>\n",
       "    .dataframe tbody tr th:only-of-type {\n",
       "        vertical-align: middle;\n",
       "    }\n",
       "\n",
       "    .dataframe tbody tr th {\n",
       "        vertical-align: top;\n",
       "    }\n",
       "\n",
       "    .dataframe thead th {\n",
       "        text-align: right;\n",
       "    }\n",
       "</style>\n",
       "<table border=\"1\" class=\"dataframe\">\n",
       "  <thead>\n",
       "    <tr style=\"text-align: right;\">\n",
       "      <th></th>\n",
       "      <th>weighted value</th>\n",
       "      <th>accuracy</th>\n",
       "    </tr>\n",
       "  </thead>\n",
       "  <tbody>\n",
       "    <tr>\n",
       "      <th>0</th>\n",
       "      <td>4568.032523</td>\n",
       "      <td>0.500000</td>\n",
       "    </tr>\n",
       "    <tr>\n",
       "      <th>1</th>\n",
       "      <td>1673.573863</td>\n",
       "      <td>0.418033</td>\n",
       "    </tr>\n",
       "    <tr>\n",
       "      <th>2</th>\n",
       "      <td>1790.517198</td>\n",
       "      <td>0.459016</td>\n",
       "    </tr>\n",
       "    <tr>\n",
       "      <th>3</th>\n",
       "      <td>6482.951150</td>\n",
       "      <td>0.516393</td>\n",
       "    </tr>\n",
       "    <tr>\n",
       "      <th>4</th>\n",
       "      <td>2765.846921</td>\n",
       "      <td>0.500000</td>\n",
       "    </tr>\n",
       "    <tr>\n",
       "      <th>...</th>\n",
       "      <td>...</td>\n",
       "      <td>...</td>\n",
       "    </tr>\n",
       "    <tr>\n",
       "      <th>117</th>\n",
       "      <td>1248.109658</td>\n",
       "      <td>0.442623</td>\n",
       "    </tr>\n",
       "    <tr>\n",
       "      <th>118</th>\n",
       "      <td>818.833264</td>\n",
       "      <td>0.483607</td>\n",
       "    </tr>\n",
       "    <tr>\n",
       "      <th>119</th>\n",
       "      <td>9573.422224</td>\n",
       "      <td>0.500000</td>\n",
       "    </tr>\n",
       "    <tr>\n",
       "      <th>120</th>\n",
       "      <td>3378.695907</td>\n",
       "      <td>0.516393</td>\n",
       "    </tr>\n",
       "    <tr>\n",
       "      <th>121</th>\n",
       "      <td>1553.644458</td>\n",
       "      <td>0.418033</td>\n",
       "    </tr>\n",
       "  </tbody>\n",
       "</table>\n",
       "<p>122 rows × 2 columns</p>\n",
       "</div>"
      ],
      "text/plain": [
       "     weighted value  accuracy\n",
       "0       4568.032523  0.500000\n",
       "1       1673.573863  0.418033\n",
       "2       1790.517198  0.459016\n",
       "3       6482.951150  0.516393\n",
       "4       2765.846921  0.500000\n",
       "..              ...       ...\n",
       "117     1248.109658  0.442623\n",
       "118      818.833264  0.483607\n",
       "119     9573.422224  0.500000\n",
       "120     3378.695907  0.516393\n",
       "121     1553.644458  0.418033\n",
       "\n",
       "[122 rows x 2 columns]"
      ]
     },
     "execution_count": 104,
     "metadata": {},
     "output_type": "execute_result"
    }
   ],
   "source": [
    "# For that a classifier is created manually\n",
    "# The target class will select one value from weighted feture as threshold\n",
    "# And predict 0 for all values below the threshold and 1  for all values above the threshold.\n",
    "\n",
    "x=  X_new['class']\n",
    "def clss(a):\n",
    "    data =[]\n",
    "    for i in X_new['weighted value']:\n",
    "        X_new['prediction'] = np.where(X_new['weighted value']<= a, 0, 1)\n",
    "        y = X_new['prediction']\n",
    "        score=accuracy_score(x, y)\n",
    "        data.append(score)\n",
    "    return score\n",
    "\n",
    "#Finding the accuracy against each threshold value\n",
    "\n",
    "list1 =[]\n",
    "data1 =[]\n",
    "for i in  X_new['weighted value']:\n",
    "    #core1= clss(i)\n",
    "    list1.append(i)\n",
    "    data1.append(clss(i))\n",
    "pdframe = pd.DataFrame({'weighted value': list1,'accuracy': data1})\n",
    "pdframe"
   ]
  },
  {
   "cell_type": "code",
   "execution_count": 105,
   "id": "14fd132c",
   "metadata": {},
   "outputs": [
    {
     "data": {
      "text/html": [
       "<div>\n",
       "<style scoped>\n",
       "    .dataframe tbody tr th:only-of-type {\n",
       "        vertical-align: middle;\n",
       "    }\n",
       "\n",
       "    .dataframe tbody tr th {\n",
       "        vertical-align: top;\n",
       "    }\n",
       "\n",
       "    .dataframe thead th {\n",
       "        text-align: right;\n",
       "    }\n",
       "</style>\n",
       "<table border=\"1\" class=\"dataframe\">\n",
       "  <thead>\n",
       "    <tr style=\"text-align: right;\">\n",
       "      <th></th>\n",
       "      <th>weighted value</th>\n",
       "      <th>accuracy</th>\n",
       "    </tr>\n",
       "  </thead>\n",
       "  <tbody>\n",
       "    <tr>\n",
       "      <th>49</th>\n",
       "      <td>3662.779720</td>\n",
       "      <td>0.532787</td>\n",
       "    </tr>\n",
       "    <tr>\n",
       "      <th>61</th>\n",
       "      <td>3782.134477</td>\n",
       "      <td>0.524590</td>\n",
       "    </tr>\n",
       "    <tr>\n",
       "      <th>55</th>\n",
       "      <td>3411.785538</td>\n",
       "      <td>0.524590</td>\n",
       "    </tr>\n",
       "    <tr>\n",
       "      <th>35</th>\n",
       "      <td>3374.836028</td>\n",
       "      <td>0.524590</td>\n",
       "    </tr>\n",
       "    <tr>\n",
       "      <th>23</th>\n",
       "      <td>3616.071669</td>\n",
       "      <td>0.524590</td>\n",
       "    </tr>\n",
       "    <tr>\n",
       "      <th>...</th>\n",
       "      <td>...</td>\n",
       "      <td>...</td>\n",
       "    </tr>\n",
       "    <tr>\n",
       "      <th>67</th>\n",
       "      <td>1442.124256</td>\n",
       "      <td>0.418033</td>\n",
       "    </tr>\n",
       "    <tr>\n",
       "      <th>70</th>\n",
       "      <td>1630.028158</td>\n",
       "      <td>0.418033</td>\n",
       "    </tr>\n",
       "    <tr>\n",
       "      <th>78</th>\n",
       "      <td>1472.511323</td>\n",
       "      <td>0.409836</td>\n",
       "    </tr>\n",
       "    <tr>\n",
       "      <th>83</th>\n",
       "      <td>1443.134795</td>\n",
       "      <td>0.409836</td>\n",
       "    </tr>\n",
       "    <tr>\n",
       "      <th>101</th>\n",
       "      <td>1648.952586</td>\n",
       "      <td>0.409836</td>\n",
       "    </tr>\n",
       "  </tbody>\n",
       "</table>\n",
       "<p>122 rows × 2 columns</p>\n",
       "</div>"
      ],
      "text/plain": [
       "     weighted value  accuracy\n",
       "49      3662.779720  0.532787\n",
       "61      3782.134477  0.524590\n",
       "55      3411.785538  0.524590\n",
       "35      3374.836028  0.524590\n",
       "23      3616.071669  0.524590\n",
       "..              ...       ...\n",
       "67      1442.124256  0.418033\n",
       "70      1630.028158  0.418033\n",
       "78      1472.511323  0.409836\n",
       "83      1443.134795  0.409836\n",
       "101     1648.952586  0.409836\n",
       "\n",
       "[122 rows x 2 columns]"
      ]
     },
     "execution_count": 105,
     "metadata": {},
     "output_type": "execute_result"
    }
   ],
   "source": [
    "pdframe.sort_values(by=['accuracy'],ascending =False)\n",
    "#the maximum accuracy is 53.2% against the weighted value 3662.2"
   ]
  },
  {
   "cell_type": "code",
   "execution_count": 107,
   "id": "3d04c2f5",
   "metadata": {},
   "outputs": [
    {
     "name": "stdout",
     "output_type": "stream",
     "text": [
      "|     |   weighted value |   accuracy |\n",
      "|----:|-----------------:|-----------:|\n",
      "| 102 |          681.578 |   0.491803 |\n",
      "| 118 |          818.833 |   0.483607 |\n",
      "|  19 |          829.527 |   0.491803 |\n",
      "|  87 |          886.051 |   0.483607 |\n",
      "|  85 |          906.333 |   0.47541  |\n",
      "|  95 |          909.765 |   0.467213 |\n",
      "|  24 |          924.118 |   0.47541  |\n",
      "|  81 |          927.72  |   0.467213 |\n",
      "| 116 |          956.506 |   0.459016 |\n",
      "| 100 |          978.767 |   0.45082  |\n",
      "|  88 |          992.988 |   0.45082  |\n",
      "|  11 |          992.988 |   0.45082  |\n",
      "|  62 |          996.359 |   0.442623 |\n",
      "|  47 |         1018.96  |   0.45082  |\n",
      "| 110 |         1050.45  |   0.442623 |\n",
      "|  44 |         1069.37  |   0.45082  |\n",
      "| 114 |         1095.34  |   0.442623 |\n",
      "| 109 |         1119.79  |   0.434426 |\n",
      "|  15 |         1131.49  |   0.442623 |\n",
      "| 103 |         1156.45  |   0.434426 |\n",
      "| 107 |         1171.73  |   0.42623  |\n",
      "|  28 |         1187.12  |   0.434426 |\n",
      "|  99 |         1196.17  |   0.42623  |\n",
      "|  52 |         1204.49  |   0.434426 |\n",
      "|  31 |         1222.14  |   0.442623 |\n",
      "|  36 |         1240.47  |   0.45082  |\n",
      "| 117 |         1248.11  |   0.442623 |\n",
      "| 106 |         1272.55  |   0.434426 |\n",
      "|  39 |         1273.81  |   0.442623 |\n",
      "|  21 |         1309.22  |   0.45082  |\n",
      "|  80 |         1324.49  |   0.442623 |\n",
      "|  74 |         1348.94  |   0.434426 |\n",
      "|  51 |         1350.67  |   0.442623 |\n",
      "|  92 |         1392.91  |   0.434426 |\n",
      "|  84 |         1425.32  |   0.42623  |\n",
      "|  67 |         1442.12  |   0.418033 |\n",
      "|  83 |         1443.13  |   0.409836 |\n",
      "|  57 |         1456.65  |   0.418033 |\n",
      "|  78 |         1472.51  |   0.409836 |\n",
      "|  45 |         1501.7   |   0.42623  |\n",
      "|  16 |         1501.7   |   0.42623  |\n",
      "| 111 |         1507.52  |   0.418033 |\n",
      "|  59 |         1509.06  |   0.42623  |\n",
      "| 121 |         1553.64  |   0.418033 |\n",
      "|  60 |         1590.27  |   0.42623  |\n",
      "|  56 |         1597.25  |   0.434426 |\n",
      "|  93 |         1604.06  |   0.42623  |\n",
      "|  70 |         1630.03  |   0.418033 |\n",
      "| 101 |         1648.95  |   0.409836 |\n",
      "|   1 |         1673.57  |   0.418033 |\n",
      "|  32 |         1680.44  |   0.42623  |\n",
      "|  40 |         1699.22  |   0.434426 |\n",
      "|   9 |         1699.98  |   0.442623 |\n",
      "|   5 |         1700.14  |   0.45082  |\n",
      "|  37 |         1730.85  |   0.459016 |\n",
      "|  79 |         1744.04  |   0.45082  |\n",
      "|  34 |         1744.57  |   0.459016 |\n",
      "|  18 |         1756.83  |   0.467213 |\n",
      "|  96 |         1765.33  |   0.459016 |\n",
      "|  64 |         1780.02  |   0.45082  |\n",
      "|   2 |         1790.52  |   0.459016 |\n",
      "|  54 |         1806.96  |   0.467213 |\n",
      "|  26 |         1841.95  |   0.47541  |\n",
      "|  53 |         1895.5   |   0.483607 |\n",
      "|  66 |         1899.44  |   0.47541  |\n",
      "|  41 |         1909.59  |   0.483607 |\n",
      "|  89 |         1924.87  |   0.47541  |\n",
      "|  10 |         1963.22  |   0.483607 |\n",
      "|  58 |         1994.33  |   0.491803 |\n",
      "| 115 |         1999.84  |   0.483607 |\n",
      "|  29 |         2009.27  |   0.491803 |\n",
      "|  71 |         2036.39  |   0.483607 |\n",
      "|  30 |         2076.74  |   0.491803 |\n",
      "|  98 |         2088.33  |   0.483607 |\n",
      "|  68 |         2110.86  |   0.47541  |\n",
      "|  94 |         2113.31  |   0.467213 |\n",
      "| 112 |         2131.16  |   0.459016 |\n",
      "|  82 |         2164.71  |   0.45082  |\n",
      "|  12 |         2181.37  |   0.459016 |\n",
      "|  14 |         2355.18  |   0.467213 |\n",
      "|  43 |         2423.59  |   0.47541  |\n",
      "|  72 |         2426.54  |   0.467213 |\n",
      "|  25 |         2451.42  |   0.47541  |\n",
      "|   7 |         2500.01  |   0.483607 |\n",
      "|  33 |         2513.02  |   0.491803 |\n",
      "|  86 |         2635.15  |   0.483607 |\n",
      "|   6 |         2699.4   |   0.491803 |\n",
      "| 108 |         2712.58  |   0.483607 |\n",
      "|   8 |         2747.82  |   0.491803 |\n",
      "|   4 |         2765.85  |   0.5      |\n",
      "| 113 |         2788.09  |   0.491803 |\n",
      "|  73 |         2815.3   |   0.483607 |\n",
      "|  90 |         2827.26  |   0.47541  |\n",
      "|  17 |         2891.43  |   0.483607 |\n",
      "|  38 |         3004.2   |   0.491803 |\n",
      "|  48 |         3030.33  |   0.5      |\n",
      "|  77 |         3042.01  |   0.491803 |\n",
      "|  46 |         3106.62  |   0.5      |\n",
      "|  42 |         3118.31  |   0.508197 |\n",
      "|  91 |         3122.19  |   0.5      |\n",
      "|  13 |         3135.42  |   0.508197 |\n",
      "|  76 |         3142.66  |   0.5      |\n",
      "|  22 |         3253.64  |   0.508197 |\n",
      "|  27 |         3277.89  |   0.516393 |\n",
      "|  35 |         3374.84  |   0.52459  |\n",
      "| 120 |         3378.7   |   0.516393 |\n",
      "|  55 |         3411.79  |   0.52459  |\n",
      "|  65 |         3606.12  |   0.516393 |\n",
      "|  23 |         3616.07  |   0.52459  |\n",
      "|  49 |         3662.78  |   0.532787 |\n",
      "|  61 |         3782.13  |   0.52459  |\n",
      "|  75 |         4091.32  |   0.516393 |\n",
      "|  63 |         4151.65  |   0.508197 |\n",
      "|  97 |         4157.47  |   0.5      |\n",
      "|  69 |         4379.21  |   0.491803 |\n",
      "|   0 |         4568.03  |   0.5      |\n",
      "| 105 |         4633.44  |   0.491803 |\n",
      "|  20 |         4783.23  |   0.5      |\n",
      "|  50 |         5640.67  |   0.508197 |\n",
      "|   3 |         6482.95  |   0.516393 |\n",
      "| 104 |         6687.24  |   0.508197 |\n",
      "| 119 |         9573.42  |   0.5      |\n"
     ]
    }
   ],
   "source": [
    "#finding the positon of the value in the dataset\n",
    "\n",
    "df=pdframe.sort_values(by=['weighted value'])\n",
    "print(df.to_markdown())\n",
    "\n",
    "#There are only 12 values (10% of the overall data) comes below the value 3662.2\n",
    "#so we cannot set this as a threshold value since i will a biased one."
   ]
  },
  {
   "cell_type": "code",
   "execution_count": null,
   "id": "259c8e58",
   "metadata": {},
   "outputs": [],
   "source": []
  }
 ],
 "metadata": {
  "kernelspec": {
   "display_name": "Python 3 (ipykernel)",
   "language": "python",
   "name": "python3"
  },
  "language_info": {
   "codemirror_mode": {
    "name": "ipython",
    "version": 3
   },
   "file_extension": ".py",
   "mimetype": "text/x-python",
   "name": "python",
   "nbconvert_exporter": "python",
   "pygments_lexer": "ipython3",
   "version": "3.9.7"
  }
 },
 "nbformat": 4,
 "nbformat_minor": 5
}
